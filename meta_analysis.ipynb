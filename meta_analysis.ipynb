{
 "cells": [
  {
   "cell_type": "code",
   "execution_count": 2,
   "id": "36c50986-f9c8-4ab7-ad64-5423dacf5e5f",
   "metadata": {},
   "outputs": [],
   "source": [
    "# Import all neccesary python libraries for analysis.\n",
    "import pymc as pm\n",
    "import pandas as pd\n",
    "import pyreadr"
   ]
  },
  {
   "cell_type": "code",
   "execution_count": 13,
   "id": "b88b2a42-318e-4509-ad12-c047ec66cf8f",
   "metadata": {},
   "outputs": [],
   "source": [
    "# Import rda file into OrderedDict.\n",
    "keys = pyreadr.read_r(\"data/ThirdWave.rda\")\n",
    "\n",
    "# Extract from OrderedDict the pandas dataframe.\n",
    "df = keys[\"ThirdWave\"]\n",
    "seTE = df[\"seTE\"]\n",
    "# Convert to integer to make the model code work below.\n",
    "author_id = df['Author'].values\n",
    "y = df[\"TE\"]"
   ]
  },
  {
   "cell_type": "code",
   "execution_count": 14,
   "id": "48bdbe52-5305-4041-ae27-f91c1c5aec48",
   "metadata": {},
   "outputs": [
    {
     "ename": "RecursionError",
     "evalue": "maximum recursion depth exceeded in comparison",
     "output_type": "error",
     "traceback": [
      "\u001b[0;31m---------------------------------------------------------------------------\u001b[0m",
      "\u001b[0;31mRecursionError\u001b[0m                            Traceback (most recent call last)",
      "Cell \u001b[0;32mIn[14], line 8\u001b[0m\n\u001b[1;32m      5\u001b[0m \u001b[38;5;66;03m# Random intercepts\u001b[39;00m\n\u001b[1;32m      6\u001b[0m alpha \u001b[38;5;241m=\u001b[39m pm\u001b[38;5;241m.\u001b[39mNormal(\u001b[38;5;124m'\u001b[39m\u001b[38;5;124malpha\u001b[39m\u001b[38;5;124m'\u001b[39m, mu\u001b[38;5;241m=\u001b[39m\u001b[38;5;241m0\u001b[39m, sigma \u001b[38;5;241m=\u001b[39m sigma_a, shape\u001b[38;5;241m=\u001b[39m\u001b[38;5;28mlen\u001b[39m(df\u001b[38;5;241m.\u001b[39mAuthor\u001b[38;5;241m.\u001b[39munique()))\n\u001b[0;32m----> 8\u001b[0m y \u001b[38;5;241m=\u001b[39m pm\u001b[38;5;241m.\u001b[39mNormal(\u001b[38;5;124m\"\u001b[39m\u001b[38;5;124my\u001b[39m\u001b[38;5;124m\"\u001b[39m, mu \u001b[38;5;241m=\u001b[39m intercept \u001b[38;5;241m+\u001b[39m \u001b[43malpha\u001b[49m\u001b[43m[\u001b[49m\u001b[43mauthor_id\u001b[49m\u001b[43m]\u001b[49m, sigma \u001b[38;5;241m=\u001b[39m seTE, observed\u001b[38;5;241m=\u001b[39my)\n\u001b[1;32m      9\u001b[0m \u001b[38;5;28;01mpass\u001b[39;00m\n",
      "File \u001b[0;32m~/anaconda3/envs/pymc_env/lib/python3.11/site-packages/pytensor/tensor/variable.py:486\u001b[0m, in \u001b[0;36m_tensor_py_operators.__getitem__\u001b[0;34m(self, args)\u001b[0m\n\u001b[1;32m    478\u001b[0m     index_dim_count \u001b[38;5;241m+\u001b[39m\u001b[38;5;241m=\u001b[39m arg\u001b[38;5;241m.\u001b[39mndim\n\u001b[1;32m    479\u001b[0m \u001b[38;5;28;01melse\u001b[39;00m:\n\u001b[1;32m    480\u001b[0m     \u001b[38;5;66;03m# Python arrays can contain a mixture of bools and integers,\u001b[39;00m\n\u001b[1;32m    481\u001b[0m     \u001b[38;5;66;03m# which requires complex rules to handle all special cases.\u001b[39;00m\n\u001b[0;32m   (...)\u001b[0m\n\u001b[1;32m    484\u001b[0m     \u001b[38;5;66;03m# indexing, it is safe to throw an error if we encounter\u001b[39;00m\n\u001b[1;32m    485\u001b[0m     \u001b[38;5;66;03m# any of these difficult cases.\u001b[39;00m\n\u001b[0;32m--> 486\u001b[0m     \u001b[38;5;28;01mif\u001b[39;00m \u001b[43mincludes_bool\u001b[49m\u001b[43m(\u001b[49m\u001b[43marg\u001b[49m\u001b[43m)\u001b[49m:\n\u001b[1;32m    487\u001b[0m         \u001b[38;5;28;01mraise\u001b[39;00m \u001b[38;5;167;01mTypeError\u001b[39;00m(\n\u001b[1;32m    488\u001b[0m             \u001b[38;5;124m\"\u001b[39m\u001b[38;5;124mTensorType does not support Python bools \u001b[39m\u001b[38;5;124m\"\u001b[39m\n\u001b[1;32m    489\u001b[0m             \u001b[38;5;124m\"\u001b[39m\u001b[38;5;124mfor indexing, such as tensor[[True, False]]. \u001b[39m\u001b[38;5;124m\"\u001b[39m\n\u001b[0;32m   (...)\u001b[0m\n\u001b[1;32m    492\u001b[0m             \u001b[38;5;124m\"\u001b[39m\u001b[38;5;124mtensor[numpy.array([True, False])].\u001b[39m\u001b[38;5;124m\"\u001b[39m\n\u001b[1;32m    493\u001b[0m         )\n\u001b[1;32m    494\u001b[0m     index_dim_count \u001b[38;5;241m+\u001b[39m\u001b[38;5;241m=\u001b[39m \u001b[38;5;241m1\u001b[39m\n",
      "File \u001b[0;32m~/anaconda3/envs/pymc_env/lib/python3.11/site-packages/pytensor/tensor/variable.py:454\u001b[0m, in \u001b[0;36m_tensor_py_operators.__getitem__.<locals>.includes_bool\u001b[0;34m(args_el)\u001b[0m\n\u001b[1;32m    452\u001b[0m \u001b[38;5;28;01mif\u001b[39;00m \u001b[38;5;129;01mnot\u001b[39;00m \u001b[38;5;28misinstance\u001b[39m(args_el, Variable) \u001b[38;5;129;01mand\u001b[39;00m \u001b[38;5;28misinstance\u001b[39m(args_el, Iterable):\n\u001b[1;32m    453\u001b[0m     \u001b[38;5;28;01mfor\u001b[39;00m el \u001b[38;5;129;01min\u001b[39;00m args_el:\n\u001b[0;32m--> 454\u001b[0m         \u001b[38;5;28;01mif\u001b[39;00m \u001b[43mincludes_bool\u001b[49m\u001b[43m(\u001b[49m\u001b[43mel\u001b[49m\u001b[43m)\u001b[49m:\n\u001b[1;32m    455\u001b[0m             \u001b[38;5;28;01mreturn\u001b[39;00m \u001b[38;5;28;01mTrue\u001b[39;00m\n\u001b[1;32m    456\u001b[0m \u001b[38;5;28;01mreturn\u001b[39;00m \u001b[38;5;28;01mFalse\u001b[39;00m\n",
      "File \u001b[0;32m~/anaconda3/envs/pymc_env/lib/python3.11/site-packages/pytensor/tensor/variable.py:454\u001b[0m, in \u001b[0;36m_tensor_py_operators.__getitem__.<locals>.includes_bool\u001b[0;34m(args_el)\u001b[0m\n\u001b[1;32m    452\u001b[0m \u001b[38;5;28;01mif\u001b[39;00m \u001b[38;5;129;01mnot\u001b[39;00m \u001b[38;5;28misinstance\u001b[39m(args_el, Variable) \u001b[38;5;129;01mand\u001b[39;00m \u001b[38;5;28misinstance\u001b[39m(args_el, Iterable):\n\u001b[1;32m    453\u001b[0m     \u001b[38;5;28;01mfor\u001b[39;00m el \u001b[38;5;129;01min\u001b[39;00m args_el:\n\u001b[0;32m--> 454\u001b[0m         \u001b[38;5;28;01mif\u001b[39;00m \u001b[43mincludes_bool\u001b[49m\u001b[43m(\u001b[49m\u001b[43mel\u001b[49m\u001b[43m)\u001b[49m:\n\u001b[1;32m    455\u001b[0m             \u001b[38;5;28;01mreturn\u001b[39;00m \u001b[38;5;28;01mTrue\u001b[39;00m\n\u001b[1;32m    456\u001b[0m \u001b[38;5;28;01mreturn\u001b[39;00m \u001b[38;5;28;01mFalse\u001b[39;00m\n",
      "    \u001b[0;31m[... skipping similar frames: _tensor_py_operators.__getitem__.<locals>.includes_bool at line 454 (9965 times)]\u001b[0m\n",
      "File \u001b[0;32m~/anaconda3/envs/pymc_env/lib/python3.11/site-packages/pytensor/tensor/variable.py:454\u001b[0m, in \u001b[0;36m_tensor_py_operators.__getitem__.<locals>.includes_bool\u001b[0;34m(args_el)\u001b[0m\n\u001b[1;32m    452\u001b[0m \u001b[38;5;28;01mif\u001b[39;00m \u001b[38;5;129;01mnot\u001b[39;00m \u001b[38;5;28misinstance\u001b[39m(args_el, Variable) \u001b[38;5;129;01mand\u001b[39;00m \u001b[38;5;28misinstance\u001b[39m(args_el, Iterable):\n\u001b[1;32m    453\u001b[0m     \u001b[38;5;28;01mfor\u001b[39;00m el \u001b[38;5;129;01min\u001b[39;00m args_el:\n\u001b[0;32m--> 454\u001b[0m         \u001b[38;5;28;01mif\u001b[39;00m \u001b[43mincludes_bool\u001b[49m\u001b[43m(\u001b[49m\u001b[43mel\u001b[49m\u001b[43m)\u001b[49m:\n\u001b[1;32m    455\u001b[0m             \u001b[38;5;28;01mreturn\u001b[39;00m \u001b[38;5;28;01mTrue\u001b[39;00m\n\u001b[1;32m    456\u001b[0m \u001b[38;5;28;01mreturn\u001b[39;00m \u001b[38;5;28;01mFalse\u001b[39;00m\n",
      "File \u001b[0;32m~/anaconda3/envs/pymc_env/lib/python3.11/site-packages/pytensor/tensor/variable.py:452\u001b[0m, in \u001b[0;36m_tensor_py_operators.__getitem__.<locals>.includes_bool\u001b[0;34m(args_el)\u001b[0m\n\u001b[1;32m    448\u001b[0m \u001b[38;5;28;01mif\u001b[39;00m \u001b[38;5;28misinstance\u001b[39m(args_el, (np\u001b[38;5;241m.\u001b[39mbool_, \u001b[38;5;28mbool\u001b[39m)) \u001b[38;5;129;01mor\u001b[39;00m (\n\u001b[1;32m    449\u001b[0m     \u001b[38;5;28mhasattr\u001b[39m(args_el, \u001b[38;5;124m\"\u001b[39m\u001b[38;5;124mdtype\u001b[39m\u001b[38;5;124m\"\u001b[39m) \u001b[38;5;129;01mand\u001b[39;00m args_el\u001b[38;5;241m.\u001b[39mdtype \u001b[38;5;241m==\u001b[39m \u001b[38;5;124m\"\u001b[39m\u001b[38;5;124mbool\u001b[39m\u001b[38;5;124m\"\u001b[39m\n\u001b[1;32m    450\u001b[0m ):\n\u001b[1;32m    451\u001b[0m     \u001b[38;5;28;01mreturn\u001b[39;00m \u001b[38;5;28;01mTrue\u001b[39;00m\n\u001b[0;32m--> 452\u001b[0m \u001b[38;5;28;01mif\u001b[39;00m \u001b[38;5;129;01mnot\u001b[39;00m \u001b[38;5;28misinstance\u001b[39m(args_el, Variable) \u001b[38;5;129;01mand\u001b[39;00m \u001b[38;5;28misinstance\u001b[39m(args_el, Iterable):\n\u001b[1;32m    453\u001b[0m     \u001b[38;5;28;01mfor\u001b[39;00m el \u001b[38;5;129;01min\u001b[39;00m args_el:\n\u001b[1;32m    454\u001b[0m         \u001b[38;5;28;01mif\u001b[39;00m includes_bool(el):\n",
      "File \u001b[0;32m<frozen abc>:119\u001b[0m, in \u001b[0;36m__instancecheck__\u001b[0;34m(cls, instance)\u001b[0m\n",
      "\u001b[0;31mRecursionError\u001b[0m: maximum recursion depth exceeded in comparison"
     ]
    }
   ],
   "source": [
    "with pm.Model() as model:\n",
    "    \n",
    "    intercept = pm.Normal(\"intercept\", mu = 0, sigma = 1)\n",
    "    sigma_a = pm.HalfCauchy(\"sigma_a\", beta=1)\n",
    "    # Random intercepts\n",
    "    alpha = pm.Normal('alpha', mu=0, sigma = sigma_a, shape=len(df.Author.unique()))\n",
    "    \n",
    "    y = pm.Normal(\"y\", mu = intercept + alpha[author_id], sigma = seTE, observed=y)\n",
    "    pass"
   ]
  },
  {
   "cell_type": "code",
   "execution_count": 15,
   "id": "ce2b74e3",
   "metadata": {},
   "outputs": [
    {
     "data": {
      "text/plain": [
       "array(['Call et al.', 'Cavanagh et al.', 'DanitzOrsillo',\n",
       "       'de Vibe et al.', 'Frazier et al.', 'Frogeli et al.',\n",
       "       'Gallego et al.', 'Hazlett-Stevens & Oren', 'Hintz et al.',\n",
       "       'Kang et al.', 'Kuhlmann et al.', 'Lever Taylor et al.',\n",
       "       'Phang et al.', 'Rasanen et al.', 'Ratanasiripong',\n",
       "       'Shapiro et al.', 'Song & Lindquist', 'Warnecke et al.'],\n",
       "      dtype=object)"
      ]
     },
     "execution_count": 15,
     "metadata": {},
     "output_type": "execute_result"
    }
   ],
   "source": [
    "author_id"
   ]
  },
  {
   "cell_type": "markdown",
   "id": "f3dd91a9-a5f4-4d1c-ae8a-36a980f86ce5",
   "metadata": {},
   "source": [
    "# References\n",
    "Harrer, M., Cuijpers, P., Furukawa, T.A., & Ebert, D.D. (2021). Doing Meta-Analysis with R: A Hands-On Guide. Boca Raton, FL and London: Chapmann & Hall/CRC Press. ISBN 978-0-367-61007-4.\n",
    "\n",
    "Röver, Christian. 2017. “Bayesian Random-Effects Meta-Analysis Using the ‘Bayesmeta‘ r Package.” ArXiv Preprint 1711.08683."
   ]
  }
 ],
 "metadata": {
  "kernelspec": {
   "display_name": "Python 3 (ipykernel)",
   "language": "python",
   "name": "python3"
  },
  "language_info": {
   "codemirror_mode": {
    "name": "ipython",
    "version": 3
   },
   "file_extension": ".py",
   "mimetype": "text/x-python",
   "name": "python",
   "nbconvert_exporter": "python",
   "pygments_lexer": "ipython3",
   "version": "3.11.7"
  }
 },
 "nbformat": 4,
 "nbformat_minor": 5
}
